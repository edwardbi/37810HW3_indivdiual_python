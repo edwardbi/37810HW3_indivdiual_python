{
 "cells": [
  {
   "cell_type": "markdown",
   "metadata": {},
   "source": [
    "## Basic Python Questions\n",
    "1. Create three variables, with appropriate names, containing the following pieces of information: 1. Your age. 2. Your name 3. The number of pets you have owned in your life.\n",
    "\n",
    "2. Go back and add comments to the above lines.\n",
    "\n",
    "3. Print out each variable using the print() function."
   ]
  },
  {
   "cell_type": "code",
   "execution_count": 5,
   "metadata": {},
   "outputs": [
    {
     "name": "stdout",
     "output_type": "stream",
     "text": [
      "Dehua Bi\n",
      "28\n",
      "0\n"
     ]
    }
   ],
   "source": [
    "# Variables to save my name, age and number of pets\n",
    "name = \"Dehua Bi\"\n",
    "age = 28\n",
    "num_pet = 0\n",
    "\n",
    "print(name)\n",
    "print(age)\n",
    "print(num_pet)"
   ]
  },
  {
   "cell_type": "markdown",
   "metadata": {},
   "source": [
    "4. Now print out a sentence for each variable, by combining text and the value using the paste() function. For example, to print my age, I could type print(paste(\"Hello world, I am \", my_age, \" years old.”)). This combines the strings \"Hello world, I am \" and \" years old.” with the value of the variable called my_age . You can combine as many strings and variables as you like using the paste command. "
   ]
  },
  {
   "cell_type": "code",
   "execution_count": 6,
   "metadata": {},
   "outputs": [
    {
     "name": "stdout",
     "output_type": "stream",
     "text": [
      "My name is Dehua Bi\n",
      "I am 28 years old\n",
      "I have 0 pets before\n"
     ]
    }
   ],
   "source": [
    "print(\"My name is\", name)\n",
    "print(\"I am\", age, \"years old\")\n",
    "print(\"I have\", num_pet, \"pets before\")"
   ]
  },
  {
   "cell_type": "markdown",
   "metadata": {},
   "source": [
    "5. It’s your birthday today! Change your age by adding the number 1 to your current age. (Do this by adding, not simply inputting the new value.) Print out the sentence “Congratulations, now you are <new age>”."
   ]
  },
  {
   "cell_type": "code",
   "execution_count": 8,
   "metadata": {},
   "outputs": [
    {
     "name": "stdout",
     "output_type": "stream",
     "text": [
      "Congratulations, now you are 29 years old\n"
     ]
    }
   ],
   "source": [
    "age_new = age + 1\n",
    "print(\"Congratulations, now you are\", age_new, \"years old\")"
   ]
  },
  {
   "cell_type": "markdown",
   "metadata": {},
   "source": [
    "6. In Illinois, only people 21 or older can legally purchase alcohol. Use an if… else… statement to print “You can drink! You have been able to drink for X years” if your age is 21 or over, or “You can’t drink. You will need to wait X years” if your age is under 21. Calculate the correct value for X!"
   ]
  },
  {
   "cell_type": "code",
   "execution_count": 9,
   "metadata": {},
   "outputs": [
    {
     "name": "stdout",
     "output_type": "stream",
     "text": [
      "You can drink! You have been able to drink for 8 years\n"
     ]
    }
   ],
   "source": [
    "if age_new >= 21:\n",
    "    print(\"You can drink! You have been able to drink for\", age_new-21, \"years\")\n",
    "else:\n",
    "    print(\"You can't drink. You will need to wait\", 21-age_new, \"years\")"
   ]
  },
  {
   "cell_type": "markdown",
   "metadata": {},
   "source": [
    "7. Using a for loop, determine whether each age for 1 to 30 can drink. Your program should print “A 1 year old cannot drink and must wait 20 more years.  A 2 year old cannot drink and must wait 19 more years..   ……. A 29 year old has been able to drink for 8 years. A 30 year old has been able to drink for 9 years.”"
   ]
  },
  {
   "cell_type": "code",
   "execution_count": 10,
   "metadata": {},
   "outputs": [
    {
     "name": "stdout",
     "output_type": "stream",
     "text": [
      "A 1 year old cannot drink and must wait 20 more years\n",
      "A 2 year old cannot drink and must wait 19 more years\n",
      "A 3 year old cannot drink and must wait 18 more years\n",
      "A 4 year old cannot drink and must wait 17 more years\n",
      "A 5 year old cannot drink and must wait 16 more years\n",
      "A 6 year old cannot drink and must wait 15 more years\n",
      "A 7 year old cannot drink and must wait 14 more years\n",
      "A 8 year old cannot drink and must wait 13 more years\n",
      "A 9 year old cannot drink and must wait 12 more years\n",
      "A 10 year old cannot drink and must wait 11 more years\n",
      "A 11 year old cannot drink and must wait 10 more years\n",
      "A 12 year old cannot drink and must wait 9 more years\n",
      "A 13 year old cannot drink and must wait 8 more years\n",
      "A 14 year old cannot drink and must wait 7 more years\n",
      "A 15 year old cannot drink and must wait 6 more years\n",
      "A 16 year old cannot drink and must wait 5 more years\n",
      "A 17 year old cannot drink and must wait 4 more years\n",
      "A 18 year old cannot drink and must wait 3 more years\n",
      "A 19 year old cannot drink and must wait 2 more years\n",
      "A 20 year old cannot drink and must wait 1 more years\n",
      "A 21 year old has been able to drink for 0 years.\n",
      "A 22 year old has been able to drink for 1 years.\n",
      "A 23 year old has been able to drink for 2 years.\n",
      "A 24 year old has been able to drink for 3 years.\n",
      "A 25 year old has been able to drink for 4 years.\n",
      "A 26 year old has been able to drink for 5 years.\n",
      "A 27 year old has been able to drink for 6 years.\n",
      "A 28 year old has been able to drink for 7 years.\n",
      "A 29 year old has been able to drink for 8 years.\n",
      "A 30 year old has been able to drink for 9 years.\n"
     ]
    }
   ],
   "source": [
    "for i in range(30):\n",
    "    j = i+1\n",
    "    if j >= 21:\n",
    "        print(\"A\", j, \"year old has been able to drink for\", j-21, \"years.\")\n",
    "    else:\n",
    "        print(\"A\", j, \"year old cannot drink and must wait\", 21-j, \"more years\")"
   ]
  },
  {
   "cell_type": "markdown",
   "metadata": {},
   "source": [
    "8. Repeat exercise, but stop the loop early at 10 years of age using a “break” command."
   ]
  },
  {
   "cell_type": "code",
   "execution_count": 12,
   "metadata": {},
   "outputs": [
    {
     "name": "stdout",
     "output_type": "stream",
     "text": [
      "A 1 year old cannot drink and must wait 20 more years\n",
      "A 2 year old cannot drink and must wait 19 more years\n",
      "A 3 year old cannot drink and must wait 18 more years\n",
      "A 4 year old cannot drink and must wait 17 more years\n",
      "A 5 year old cannot drink and must wait 16 more years\n",
      "A 6 year old cannot drink and must wait 15 more years\n",
      "A 7 year old cannot drink and must wait 14 more years\n",
      "A 8 year old cannot drink and must wait 13 more years\n",
      "A 9 year old cannot drink and must wait 12 more years\n",
      "A 10 year old cannot drink and must wait 11 more years\n"
     ]
    }
   ],
   "source": [
    "for i in range(30):\n",
    "    j = i+1\n",
    "    if j >= 21:\n",
    "        print(\"A\", j, \"year old has been able to drink for\", j-21, \"years.\")\n",
    "    else:\n",
    "        print(\"A\", j, \"year old cannot drink and must wait\", 21-j, \"more years\")\n",
    "    if j == 10:\n",
    "        break"
   ]
  },
  {
   "cell_type": "markdown",
   "metadata": {},
   "source": [
    "9. Repeat exercise 7, but using a while loop instead of a for loop."
   ]
  },
  {
   "cell_type": "code",
   "execution_count": 13,
   "metadata": {},
   "outputs": [
    {
     "name": "stdout",
     "output_type": "stream",
     "text": [
      "A 1 year old cannot drink and must wait 20 more years\n",
      "A 2 year old cannot drink and must wait 19 more years\n",
      "A 3 year old cannot drink and must wait 18 more years\n",
      "A 4 year old cannot drink and must wait 17 more years\n",
      "A 5 year old cannot drink and must wait 16 more years\n",
      "A 6 year old cannot drink and must wait 15 more years\n",
      "A 7 year old cannot drink and must wait 14 more years\n",
      "A 8 year old cannot drink and must wait 13 more years\n",
      "A 9 year old cannot drink and must wait 12 more years\n",
      "A 10 year old cannot drink and must wait 11 more years\n",
      "A 11 year old cannot drink and must wait 10 more years\n",
      "A 12 year old cannot drink and must wait 9 more years\n",
      "A 13 year old cannot drink and must wait 8 more years\n",
      "A 14 year old cannot drink and must wait 7 more years\n",
      "A 15 year old cannot drink and must wait 6 more years\n",
      "A 16 year old cannot drink and must wait 5 more years\n",
      "A 17 year old cannot drink and must wait 4 more years\n",
      "A 18 year old cannot drink and must wait 3 more years\n",
      "A 19 year old cannot drink and must wait 2 more years\n",
      "A 20 year old cannot drink and must wait 1 more years\n",
      "A 21 year old has been able to drink for 0 years.\n",
      "A 22 year old has been able to drink for 1 years.\n",
      "A 23 year old has been able to drink for 2 years.\n",
      "A 24 year old has been able to drink for 3 years.\n",
      "A 25 year old has been able to drink for 4 years.\n",
      "A 26 year old has been able to drink for 5 years.\n",
      "A 27 year old has been able to drink for 6 years.\n",
      "A 28 year old has been able to drink for 7 years.\n",
      "A 29 year old has been able to drink for 8 years.\n",
      "A 30 year old has been able to drink for 9 years.\n"
     ]
    }
   ],
   "source": [
    "j = 1\n",
    "while j <= 30:\n",
    "    if j >= 21:\n",
    "        print(\"A\", j, \"year old has been able to drink for\", j-21, \"years.\")\n",
    "    else:\n",
    "        print(\"A\", j, \"year old cannot drink and must wait\", 21-j, \"more years\")\n",
    "    j = j+1\n",
    "        "
   ]
  },
  {
   "cell_type": "markdown",
   "metadata": {},
   "source": [
    "10. Have the computer ask the user’s age, and report back whether the user can legally drink in Illinois. To ask the user to input their age, use the following code. This code inputs an answer from the keyboard using the “readline” command, and then translates the answer into a number using the as.numeric command:\n",
    "\n",
    "num <- readline(\"How old are you? > \")\n",
    "\n",
    "my_age <- as.numeric(num)"
   ]
  },
  {
   "cell_type": "code",
   "execution_count": 15,
   "metadata": {},
   "outputs": [
    {
     "name": "stdout",
     "output_type": "stream",
     "text": [
      "How old are you?>\n",
      "20\n",
      "You can't drink legally drink in Illinois. You will need to wait 1 years\n"
     ]
    }
   ],
   "source": [
    "print(\"How old are you?>\")\n",
    "my_age = int(input())\n",
    "\n",
    "if my_age >= 21:\n",
    "    print(\"You can legally drink in Illinois! You have been able to drink for\", my_age-21, \"years\")\n",
    "else:\n",
    "    print(\"You can't drink legally drink in Illinois. You will need to wait\", 21-my_age, \"years\")"
   ]
  },
  {
   "cell_type": "markdown",
   "metadata": {},
   "source": [
    "## Python Numpy\n",
    "1.Create three vectors, with appropriate names, containing the following pieces of information: 1. The ages of the people in your immediate family. 2. The names of the above groups   3. The numbers from 1 to 100, using the : operator.\n",
    "\n",
    "2.Print out the two vectors\n",
    "\n",
    "3.Print out the name and age of the first person in each vector"
   ]
  },
  {
   "cell_type": "code",
   "execution_count": 17,
   "metadata": {},
   "outputs": [
    {
     "name": "stdout",
     "output_type": "stream",
     "text": [
      "[28 56 57]\n",
      "['Dehua' 'Hong' 'Fengxiang']\n",
      "The first person is Dehua who is 28 years old.\n"
     ]
    }
   ],
   "source": [
    "import numpy as np\n",
    "\n",
    "fam_age = np.array([28, 56, 57])\n",
    "fam_name = np.array(['Dehua', 'Hong', 'Fengxiang'])\n",
    "num_list = np.array(range(1, 101))\n",
    "\n",
    "print(fam_age)\n",
    "print(fam_name)\n",
    "\n",
    "print(\"The first person is\", fam_name[0], \"who is\", fam_age[0], \"years old.\")"
   ]
  },
  {
   "cell_type": "markdown",
   "metadata": {},
   "source": [
    "4.Calculate and print the length of the names vector — that is, how many names are there?"
   ]
  },
  {
   "cell_type": "code",
   "execution_count": 18,
   "metadata": {},
   "outputs": [
    {
     "name": "stdout",
     "output_type": "stream",
     "text": [
      "There are 3 names there in the name array\n"
     ]
    }
   ],
   "source": [
    "print(\"There are\", len(fam_name), \"names there in the name array\")"
   ]
  },
  {
   "cell_type": "markdown",
   "metadata": {},
   "source": [
    "5.Using your result from 4, print the name of the last person in the names vector."
   ]
  },
  {
   "cell_type": "code",
   "execution_count": 20,
   "metadata": {},
   "outputs": [
    {
     "name": "stdout",
     "output_type": "stream",
     "text": [
      "The last person is Fengxiang\n"
     ]
    }
   ],
   "source": [
    "print(\"The last person is\", fam_name[len(fam_name)-1])"
   ]
  },
  {
   "cell_type": "markdown",
   "metadata": {},
   "source": [
    "6.Print all the names in the name vector except the first name, using negative indexing.\n",
    "\n",
    "6a. (You may need to create a new, longer names vector for this one): print the names of people 2-4 in the names vector\n",
    "\n",
    "6b. change the names of people 1, 2 and 4 to be “Bob”."
   ]
  },
  {
   "cell_type": "code",
   "execution_count": 27,
   "metadata": {},
   "outputs": [
    {
     "name": "stdout",
     "output_type": "stream",
     "text": [
      "The last person is Fengxiang\n",
      "The second person is Hong\n",
      "The first person is Dehua\n",
      "The 2-4 names are ['Hong' 'Henry' 'Fengxiang']\n",
      "['Bob' 'Bob' 'Hong' 'Bob' 'Fengxiang' 'Lucy']\n"
     ]
    }
   ],
   "source": [
    "print(\"The last person is\", fam_name[-1])\n",
    "print(\"The second person is\", fam_name[-2])\n",
    "print(\"The first person is\", fam_name[-3])\n",
    "\n",
    "new_name = np.array(['Dehua', 'Edward', 'Hong', 'Henry', 'Fengxiang', 'Lucy'])\n",
    "print(\"The 2-4 names are\", new_name[2:(4+1)])\n",
    "\n",
    "for i in [1,2,4]:\n",
    "    new_name[i-1] = \"Bob\"\n",
    "print(new_name)"
   ]
  },
  {
   "cell_type": "markdown",
   "metadata": {},
   "source": [
    "7.Print all the names in the name vector except the second name"
   ]
  },
  {
   "cell_type": "code",
   "execution_count": 30,
   "metadata": {},
   "outputs": [
    {
     "name": "stdout",
     "output_type": "stream",
     "text": [
      "['Bob', 'Hong', 'Bob', 'Fengxiang', 'Lucy']\n"
     ]
    }
   ],
   "source": [
    "print([x for i,x in enumerate(new_name) if i!=(2-1)])"
   ]
  },
  {
   "cell_type": "markdown",
   "metadata": {},
   "source": [
    "8.There is a new member of the family! Change your name and ages vector to add a 0 year old “Baby”. Make sure you assign the results back to the original variables."
   ]
  },
  {
   "cell_type": "code",
   "execution_count": 33,
   "metadata": {},
   "outputs": [
    {
     "name": "stdout",
     "output_type": "stream",
     "text": [
      "['Dehua' 'Hong' 'Fengxiang' 'Baby']\n",
      "[28 56 57  0]\n"
     ]
    }
   ],
   "source": [
    "fam_name = np.append(fam_name,\"Baby\")\n",
    "fam_age = np.append(fam_age,0)\n",
    "print(fam_name)\n",
    "print(fam_age)"
   ]
  },
  {
   "cell_type": "markdown",
   "metadata": {},
   "source": [
    "9.What’s the mean age in your family? The median?"
   ]
  },
  {
   "cell_type": "code",
   "execution_count": 35,
   "metadata": {},
   "outputs": [
    {
     "name": "stdout",
     "output_type": "stream",
     "text": [
      "The mean age in my family is 35.25\n",
      "The median age in my family is 42.0\n"
     ]
    }
   ],
   "source": [
    "mean_famage = np.mean(fam_age)\n",
    "print(\"The mean age in my family is\", mean_famage)\n",
    "\n",
    "med_famage = np.median(fam_age)\n",
    "print(\"The median age in my family is\", med_famage)"
   ]
  },
  {
   "cell_type": "markdown",
   "metadata": {},
   "source": [
    "10.Your family meets your twin family. Create a new variable called “double_family” that contains each name in your family twice, by combining two copies of your names vector."
   ]
  },
  {
   "cell_type": "code",
   "execution_count": 37,
   "metadata": {},
   "outputs": [
    {
     "name": "stdout",
     "output_type": "stream",
     "text": [
      "['Dehua' 'Hong' 'Fengxiang' 'Baby' 'Dehua' 'Hong' 'Fengxiang' 'Baby']\n"
     ]
    }
   ],
   "source": [
    "double_fam = fam_name\n",
    "double_family = np.append(fam_name, double_fam)\n",
    "print(double_family)"
   ]
  },
  {
   "cell_type": "markdown",
   "metadata": {},
   "source": [
    "11.Which members of your family are aged 0? Make a vector of TRUE or FALSE values using the “==“ operator.."
   ]
  },
  {
   "cell_type": "code",
   "execution_count": 38,
   "metadata": {},
   "outputs": [
    {
     "name": "stdout",
     "output_type": "stream",
     "text": [
      "[False, False, False, True]\n"
     ]
    }
   ],
   "source": [
    "age_0_mem = []\n",
    "for i in fam_age:\n",
    "    if i == 0:\n",
    "        age_0_mem.append(True)\n",
    "    else:\n",
    "        age_0_mem.append(False)\n",
    "print(age_0_mem)"
   ]
  },
  {
   "cell_type": "markdown",
   "metadata": {},
   "source": [
    "12.Using the “any” command and the results from 11, determine whether any of your family members are aged 0."
   ]
  },
  {
   "cell_type": "code",
   "execution_count": 40,
   "metadata": {},
   "outputs": [
    {
     "name": "stdout",
     "output_type": "stream",
     "text": [
      "There is family members who is age 0\n"
     ]
    }
   ],
   "source": [
    "if any(age_0_mem) == True:\n",
    "    print(\"There is family members who is age 0\")\n",
    "else:\n",
    "    pritn(\"There are no family members who is age 0\")"
   ]
  },
  {
   "cell_type": "markdown",
   "metadata": {},
   "source": [
    "13.Using the “sum” command and the results from 11, determine how many of your family members are aged 0."
   ]
  },
  {
   "cell_type": "code",
   "execution_count": 41,
   "metadata": {},
   "outputs": [
    {
     "name": "stdout",
     "output_type": "stream",
     "text": [
      "There are 1 members who are age 0 in the family\n"
     ]
    }
   ],
   "source": [
    "print(\"There are\", sum(age_0_mem), \"members who are age 0 in the family\")"
   ]
  },
  {
   "cell_type": "markdown",
   "metadata": {},
   "source": [
    "14.Create a vector 10, 20, 30, … 10*n , where n is the number of people in your ages vector. Do this without using any for loops!"
   ]
  },
  {
   "cell_type": "code",
   "execution_count": 43,
   "metadata": {},
   "outputs": [
    {
     "name": "stdout",
     "output_type": "stream",
     "text": [
      "[ 10  20  30  40  50  60  70  80  90 100 110 120 130 140 150 160 170 180\n",
      " 190 200 210 220 230 240 250 260 270 280]\n"
     ]
    }
   ],
   "source": [
    "age = fam_age[0]\n",
    "num_vec_by10 = np.array(range(10,10*age+1,10))\n",
    "print(num_vec_by10)"
   ]
  },
  {
   "cell_type": "markdown",
   "metadata": {},
   "source": [
    "15.Now use the == operator to  test whether any of the ages in the family equal the ages in this vector — that is, whether the first person is 10 years old, the second person is 20 years old, etc. You should get out a vector of TRUE and FALSE values.."
   ]
  },
  {
   "cell_type": "code",
   "execution_count": 45,
   "metadata": {},
   "outputs": [
    {
     "name": "stdout",
     "output_type": "stream",
     "text": [
      "[False, False, False, False]\n"
     ]
    }
   ],
   "source": [
    "fam_age_in_num_vec = []\n",
    "for i in fam_age:\n",
    "    if i in num_vec_by10:\n",
    "        fam_age_in_num_vec.append(True)\n",
    "    else:\n",
    "        fam_age_in_num_vec.append(False)\n",
    "print(fam_age_in_num_vec)"
   ]
  },
  {
   "cell_type": "code",
   "execution_count": null,
   "metadata": {},
   "outputs": [],
   "source": []
  }
 ],
 "metadata": {
  "kernelspec": {
   "display_name": "Python 3",
   "language": "python",
   "name": "python3"
  },
  "language_info": {
   "codemirror_mode": {
    "name": "ipython",
    "version": 3
   },
   "file_extension": ".py",
   "mimetype": "text/x-python",
   "name": "python",
   "nbconvert_exporter": "python",
   "pygments_lexer": "ipython3",
   "version": "3.6.4"
  }
 },
 "nbformat": 4,
 "nbformat_minor": 2
}
